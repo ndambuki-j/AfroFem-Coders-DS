{
  "nbformat": 4,
  "nbformat_minor": 0,
  "metadata": {
    "colab": {
      "name": "exam_grades_analysis.ipynb",
      "provenance": []
    },
    "kernelspec": {
      "name": "python3",
      "display_name": "Python 3"
    },
    "language_info": {
      "name": "python"
    }
  },
  "cells": [
    {
      "cell_type": "code",
      "execution_count": null,
      "metadata": {
        "id": "pDTQIOyxqPJR"
      },
      "outputs": [],
      "source": [
        "#Import the pandas library.\n",
        "import pandas as pd"
      ]
    },
    {
      "cell_type": "code",
      "source": [
        "#Load the dataset into a pandas dataframe.\n",
        "df = pd.read_csv('/content/sample_data/exam_grades.csv')\n",
        "print(df)"
      ],
      "metadata": {
        "id": "pishcB6qrVAc",
        "colab": {
          "base_uri": "https://localhost:8080/"
        },
        "outputId": "54213001-9c65-4d0f-ce32-c619c19c3fcb"
      },
      "execution_count": null,
      "outputs": [
        {
          "output_type": "stream",
          "name": "stdout",
          "text": [
            "    exam  student_id  grade\n",
            "0      1           1   86.0\n",
            "1      1           2   65.0\n",
            "2      1           3   70.0\n",
            "3      1           4   98.0\n",
            "4      1           5   89.0\n",
            "5      1           6    NaN\n",
            "6      1           7   75.0\n",
            "7      1           8   56.0\n",
            "8      1           9   90.0\n",
            "9      1          10   81.0\n",
            "10     2           1   79.0\n",
            "11     2           2   60.0\n",
            "12     2           3   78.0\n",
            "13     2           4   75.0\n",
            "14     2           5    NaN\n",
            "15     2           6   80.0\n",
            "16     2           7   87.0\n",
            "17     2           8   82.0\n",
            "18     2           9   95.0\n",
            "19     2          10   96.0\n",
            "20     3           1   78.0\n",
            "21     3           2   80.0\n",
            "22     3           3   87.0\n",
            "23     3           4    NaN\n",
            "24     3           5   89.0\n",
            "25     3           6   90.0\n",
            "26     3           7  100.0\n",
            "27     3           8   72.0\n",
            "28     3           9   73.0\n",
            "29     3          10   75.0\n",
            "30     4           1    NaN\n",
            "31     4           2   80.0\n",
            "32     4           3   81.0\n",
            "33     4           4   82.0\n",
            "34     4           5   83.0\n",
            "35     4           6   84.0\n",
            "36     4           7   85.0\n",
            "37     4           8   86.0\n",
            "38     4           9   87.0\n",
            "39     4          10   88.0\n",
            "40     5           1   90.0\n",
            "41     5           2    NaN\n",
            "42     5           3   91.0\n",
            "43     5           4   92.0\n",
            "44     5           5   93.0\n",
            "45     5           6   94.0\n",
            "46     5           7   95.0\n",
            "47     5           8   96.0\n",
            "48     5           9   97.0\n",
            "49     5          10   98.0\n"
          ]
        }
      ]
    },
    {
      "cell_type": "code",
      "source": [
        "#How many rows are in the dataset?\n",
        "rows = len(df.axes[0])\n",
        "print(\"Number of Rows: \" + str(rows))"
      ],
      "metadata": {
        "colab": {
          "base_uri": "https://localhost:8080/"
        },
        "id": "WCWVhXKUrhTM",
        "outputId": "98a566df-6e92-40c8-edfe-b38c3b8bcd89"
      },
      "execution_count": null,
      "outputs": [
        {
          "output_type": "stream",
          "name": "stdout",
          "text": [
            "Number of Rows: 50\n"
          ]
        }
      ]
    },
    {
      "cell_type": "code",
      "source": [
        "#How many columns are in the dataset?\n",
        "cols = len(df.axes[1])\n",
        "print(\"Number of Columns: \" + str(cols))"
      ],
      "metadata": {
        "colab": {
          "base_uri": "https://localhost:8080/"
        },
        "id": "EW68WCmns-lz",
        "outputId": "b941df7b-1b7b-4eef-8bdc-6b205100b2c2"
      },
      "execution_count": null,
      "outputs": [
        {
          "output_type": "stream",
          "name": "stdout",
          "text": [
            "Number of Columns: 3\n"
          ]
        }
      ]
    },
    {
      "cell_type": "code",
      "source": [
        "#How many unique student IDs are in the dataset?\n",
        "df.student_id.nunique()\n"
      ],
      "metadata": {
        "id": "B8XbiBBatV-W",
        "colab": {
          "base_uri": "https://localhost:8080/"
        },
        "outputId": "8c946faa-d2ca-4c0d-e5be-b5d9cd4949d3"
      },
      "execution_count": null,
      "outputs": [
        {
          "output_type": "execute_result",
          "data": {
            "text/plain": [
              "10"
            ]
          },
          "metadata": {},
          "execution_count": 5
        }
      ]
    },
    {
      "cell_type": "code",
      "source": [
        "#What is the list of unique student IDs in the dataset?\n",
        "df.student_id.unique()"
      ],
      "metadata": {
        "id": "NfitqMCSwaRf",
        "colab": {
          "base_uri": "https://localhost:8080/"
        },
        "outputId": "a6537ff6-f8c0-4796-d71a-d3e8ef5260ec"
      },
      "execution_count": null,
      "outputs": [
        {
          "output_type": "execute_result",
          "data": {
            "text/plain": [
              "array([ 1,  2,  3,  4,  5,  6,  7,  8,  9, 10])"
            ]
          },
          "metadata": {},
          "execution_count": 6
        }
      ]
    },
    {
      "cell_type": "code",
      "source": [
        "#How many missing grades are there across all exams in the dataset?\n",
        "df.isna().sum()"
      ],
      "metadata": {
        "colab": {
          "base_uri": "https://localhost:8080/"
        },
        "id": "lwwobRoWwjBY",
        "outputId": "6d8d0ef2-3e4d-4311-bb90-0f1d30afd16b"
      },
      "execution_count": null,
      "outputs": [
        {
          "output_type": "execute_result",
          "data": {
            "text/plain": [
              "exam          0\n",
              "student_id    0\n",
              "grade         5\n",
              "dtype: int64"
            ]
          },
          "metadata": {},
          "execution_count": 7
        }
      ]
    },
    {
      "cell_type": "code",
      "source": [
        "#Replacing null with zero\n",
        "df = df.fillna(0)\n",
        "print(df)"
      ],
      "metadata": {
        "colab": {
          "base_uri": "https://localhost:8080/"
        },
        "id": "N0JpwpjJyNBy",
        "outputId": "1d5c891a-5efe-4f2d-9ba7-7ba02c6fedd5"
      },
      "execution_count": null,
      "outputs": [
        {
          "output_type": "stream",
          "name": "stdout",
          "text": [
            "    exam  student_id  grade\n",
            "0      1           1   86.0\n",
            "1      1           2   65.0\n",
            "2      1           3   70.0\n",
            "3      1           4   98.0\n",
            "4      1           5   89.0\n",
            "5      1           6    0.0\n",
            "6      1           7   75.0\n",
            "7      1           8   56.0\n",
            "8      1           9   90.0\n",
            "9      1          10   81.0\n",
            "10     2           1   79.0\n",
            "11     2           2   60.0\n",
            "12     2           3   78.0\n",
            "13     2           4   75.0\n",
            "14     2           5    0.0\n",
            "15     2           6   80.0\n",
            "16     2           7   87.0\n",
            "17     2           8   82.0\n",
            "18     2           9   95.0\n",
            "19     2          10   96.0\n",
            "20     3           1   78.0\n",
            "21     3           2   80.0\n",
            "22     3           3   87.0\n",
            "23     3           4    0.0\n",
            "24     3           5   89.0\n",
            "25     3           6   90.0\n",
            "26     3           7  100.0\n",
            "27     3           8   72.0\n",
            "28     3           9   73.0\n",
            "29     3          10   75.0\n",
            "30     4           1    0.0\n",
            "31     4           2   80.0\n",
            "32     4           3   81.0\n",
            "33     4           4   82.0\n",
            "34     4           5   83.0\n",
            "35     4           6   84.0\n",
            "36     4           7   85.0\n",
            "37     4           8   86.0\n",
            "38     4           9   87.0\n",
            "39     4          10   88.0\n",
            "40     5           1   90.0\n",
            "41     5           2    0.0\n",
            "42     5           3   91.0\n",
            "43     5           4   92.0\n",
            "44     5           5   93.0\n",
            "45     5           6   94.0\n",
            "46     5           7   95.0\n",
            "47     5           8   96.0\n",
            "48     5           9   97.0\n",
            "49     5          10   98.0\n"
          ]
        }
      ]
    },
    {
      "cell_type": "code",
      "source": [
        "#select a subset of the data containing all exam grades greater than or equal to 70.\n",
        "df.loc[df['grade'] >= 70]"
      ],
      "metadata": {
        "id": "bTDcV-hn6vtJ",
        "colab": {
          "base_uri": "https://localhost:8080/",
          "height": 1000
        },
        "outputId": "e1c18c4d-ee96-40ad-cb8d-fc7a2d24300a"
      },
      "execution_count": null,
      "outputs": [
        {
          "output_type": "execute_result",
          "data": {
            "text/plain": [
              "    exam  student_id  grade\n",
              "0      1           1   86.0\n",
              "2      1           3   70.0\n",
              "3      1           4   98.0\n",
              "4      1           5   89.0\n",
              "6      1           7   75.0\n",
              "8      1           9   90.0\n",
              "9      1          10   81.0\n",
              "10     2           1   79.0\n",
              "12     2           3   78.0\n",
              "13     2           4   75.0\n",
              "15     2           6   80.0\n",
              "16     2           7   87.0\n",
              "17     2           8   82.0\n",
              "18     2           9   95.0\n",
              "19     2          10   96.0\n",
              "20     3           1   78.0\n",
              "21     3           2   80.0\n",
              "22     3           3   87.0\n",
              "24     3           5   89.0\n",
              "25     3           6   90.0\n",
              "26     3           7  100.0\n",
              "27     3           8   72.0\n",
              "28     3           9   73.0\n",
              "29     3          10   75.0\n",
              "31     4           2   80.0\n",
              "32     4           3   81.0\n",
              "33     4           4   82.0\n",
              "34     4           5   83.0\n",
              "35     4           6   84.0\n",
              "36     4           7   85.0\n",
              "37     4           8   86.0\n",
              "38     4           9   87.0\n",
              "39     4          10   88.0\n",
              "40     5           1   90.0\n",
              "42     5           3   91.0\n",
              "43     5           4   92.0\n",
              "44     5           5   93.0\n",
              "45     5           6   94.0\n",
              "46     5           7   95.0\n",
              "47     5           8   96.0\n",
              "48     5           9   97.0\n",
              "49     5          10   98.0"
            ],
            "text/html": [
              "\n",
              "  <div id=\"df-17a95a19-f241-4653-a2e2-4010c84a5db7\">\n",
              "    <div class=\"colab-df-container\">\n",
              "      <div>\n",
              "<style scoped>\n",
              "    .dataframe tbody tr th:only-of-type {\n",
              "        vertical-align: middle;\n",
              "    }\n",
              "\n",
              "    .dataframe tbody tr th {\n",
              "        vertical-align: top;\n",
              "    }\n",
              "\n",
              "    .dataframe thead th {\n",
              "        text-align: right;\n",
              "    }\n",
              "</style>\n",
              "<table border=\"1\" class=\"dataframe\">\n",
              "  <thead>\n",
              "    <tr style=\"text-align: right;\">\n",
              "      <th></th>\n",
              "      <th>exam</th>\n",
              "      <th>student_id</th>\n",
              "      <th>grade</th>\n",
              "    </tr>\n",
              "  </thead>\n",
              "  <tbody>\n",
              "    <tr>\n",
              "      <th>0</th>\n",
              "      <td>1</td>\n",
              "      <td>1</td>\n",
              "      <td>86.0</td>\n",
              "    </tr>\n",
              "    <tr>\n",
              "      <th>2</th>\n",
              "      <td>1</td>\n",
              "      <td>3</td>\n",
              "      <td>70.0</td>\n",
              "    </tr>\n",
              "    <tr>\n",
              "      <th>3</th>\n",
              "      <td>1</td>\n",
              "      <td>4</td>\n",
              "      <td>98.0</td>\n",
              "    </tr>\n",
              "    <tr>\n",
              "      <th>4</th>\n",
              "      <td>1</td>\n",
              "      <td>5</td>\n",
              "      <td>89.0</td>\n",
              "    </tr>\n",
              "    <tr>\n",
              "      <th>6</th>\n",
              "      <td>1</td>\n",
              "      <td>7</td>\n",
              "      <td>75.0</td>\n",
              "    </tr>\n",
              "    <tr>\n",
              "      <th>8</th>\n",
              "      <td>1</td>\n",
              "      <td>9</td>\n",
              "      <td>90.0</td>\n",
              "    </tr>\n",
              "    <tr>\n",
              "      <th>9</th>\n",
              "      <td>1</td>\n",
              "      <td>10</td>\n",
              "      <td>81.0</td>\n",
              "    </tr>\n",
              "    <tr>\n",
              "      <th>10</th>\n",
              "      <td>2</td>\n",
              "      <td>1</td>\n",
              "      <td>79.0</td>\n",
              "    </tr>\n",
              "    <tr>\n",
              "      <th>12</th>\n",
              "      <td>2</td>\n",
              "      <td>3</td>\n",
              "      <td>78.0</td>\n",
              "    </tr>\n",
              "    <tr>\n",
              "      <th>13</th>\n",
              "      <td>2</td>\n",
              "      <td>4</td>\n",
              "      <td>75.0</td>\n",
              "    </tr>\n",
              "    <tr>\n",
              "      <th>15</th>\n",
              "      <td>2</td>\n",
              "      <td>6</td>\n",
              "      <td>80.0</td>\n",
              "    </tr>\n",
              "    <tr>\n",
              "      <th>16</th>\n",
              "      <td>2</td>\n",
              "      <td>7</td>\n",
              "      <td>87.0</td>\n",
              "    </tr>\n",
              "    <tr>\n",
              "      <th>17</th>\n",
              "      <td>2</td>\n",
              "      <td>8</td>\n",
              "      <td>82.0</td>\n",
              "    </tr>\n",
              "    <tr>\n",
              "      <th>18</th>\n",
              "      <td>2</td>\n",
              "      <td>9</td>\n",
              "      <td>95.0</td>\n",
              "    </tr>\n",
              "    <tr>\n",
              "      <th>19</th>\n",
              "      <td>2</td>\n",
              "      <td>10</td>\n",
              "      <td>96.0</td>\n",
              "    </tr>\n",
              "    <tr>\n",
              "      <th>20</th>\n",
              "      <td>3</td>\n",
              "      <td>1</td>\n",
              "      <td>78.0</td>\n",
              "    </tr>\n",
              "    <tr>\n",
              "      <th>21</th>\n",
              "      <td>3</td>\n",
              "      <td>2</td>\n",
              "      <td>80.0</td>\n",
              "    </tr>\n",
              "    <tr>\n",
              "      <th>22</th>\n",
              "      <td>3</td>\n",
              "      <td>3</td>\n",
              "      <td>87.0</td>\n",
              "    </tr>\n",
              "    <tr>\n",
              "      <th>24</th>\n",
              "      <td>3</td>\n",
              "      <td>5</td>\n",
              "      <td>89.0</td>\n",
              "    </tr>\n",
              "    <tr>\n",
              "      <th>25</th>\n",
              "      <td>3</td>\n",
              "      <td>6</td>\n",
              "      <td>90.0</td>\n",
              "    </tr>\n",
              "    <tr>\n",
              "      <th>26</th>\n",
              "      <td>3</td>\n",
              "      <td>7</td>\n",
              "      <td>100.0</td>\n",
              "    </tr>\n",
              "    <tr>\n",
              "      <th>27</th>\n",
              "      <td>3</td>\n",
              "      <td>8</td>\n",
              "      <td>72.0</td>\n",
              "    </tr>\n",
              "    <tr>\n",
              "      <th>28</th>\n",
              "      <td>3</td>\n",
              "      <td>9</td>\n",
              "      <td>73.0</td>\n",
              "    </tr>\n",
              "    <tr>\n",
              "      <th>29</th>\n",
              "      <td>3</td>\n",
              "      <td>10</td>\n",
              "      <td>75.0</td>\n",
              "    </tr>\n",
              "    <tr>\n",
              "      <th>31</th>\n",
              "      <td>4</td>\n",
              "      <td>2</td>\n",
              "      <td>80.0</td>\n",
              "    </tr>\n",
              "    <tr>\n",
              "      <th>32</th>\n",
              "      <td>4</td>\n",
              "      <td>3</td>\n",
              "      <td>81.0</td>\n",
              "    </tr>\n",
              "    <tr>\n",
              "      <th>33</th>\n",
              "      <td>4</td>\n",
              "      <td>4</td>\n",
              "      <td>82.0</td>\n",
              "    </tr>\n",
              "    <tr>\n",
              "      <th>34</th>\n",
              "      <td>4</td>\n",
              "      <td>5</td>\n",
              "      <td>83.0</td>\n",
              "    </tr>\n",
              "    <tr>\n",
              "      <th>35</th>\n",
              "      <td>4</td>\n",
              "      <td>6</td>\n",
              "      <td>84.0</td>\n",
              "    </tr>\n",
              "    <tr>\n",
              "      <th>36</th>\n",
              "      <td>4</td>\n",
              "      <td>7</td>\n",
              "      <td>85.0</td>\n",
              "    </tr>\n",
              "    <tr>\n",
              "      <th>37</th>\n",
              "      <td>4</td>\n",
              "      <td>8</td>\n",
              "      <td>86.0</td>\n",
              "    </tr>\n",
              "    <tr>\n",
              "      <th>38</th>\n",
              "      <td>4</td>\n",
              "      <td>9</td>\n",
              "      <td>87.0</td>\n",
              "    </tr>\n",
              "    <tr>\n",
              "      <th>39</th>\n",
              "      <td>4</td>\n",
              "      <td>10</td>\n",
              "      <td>88.0</td>\n",
              "    </tr>\n",
              "    <tr>\n",
              "      <th>40</th>\n",
              "      <td>5</td>\n",
              "      <td>1</td>\n",
              "      <td>90.0</td>\n",
              "    </tr>\n",
              "    <tr>\n",
              "      <th>42</th>\n",
              "      <td>5</td>\n",
              "      <td>3</td>\n",
              "      <td>91.0</td>\n",
              "    </tr>\n",
              "    <tr>\n",
              "      <th>43</th>\n",
              "      <td>5</td>\n",
              "      <td>4</td>\n",
              "      <td>92.0</td>\n",
              "    </tr>\n",
              "    <tr>\n",
              "      <th>44</th>\n",
              "      <td>5</td>\n",
              "      <td>5</td>\n",
              "      <td>93.0</td>\n",
              "    </tr>\n",
              "    <tr>\n",
              "      <th>45</th>\n",
              "      <td>5</td>\n",
              "      <td>6</td>\n",
              "      <td>94.0</td>\n",
              "    </tr>\n",
              "    <tr>\n",
              "      <th>46</th>\n",
              "      <td>5</td>\n",
              "      <td>7</td>\n",
              "      <td>95.0</td>\n",
              "    </tr>\n",
              "    <tr>\n",
              "      <th>47</th>\n",
              "      <td>5</td>\n",
              "      <td>8</td>\n",
              "      <td>96.0</td>\n",
              "    </tr>\n",
              "    <tr>\n",
              "      <th>48</th>\n",
              "      <td>5</td>\n",
              "      <td>9</td>\n",
              "      <td>97.0</td>\n",
              "    </tr>\n",
              "    <tr>\n",
              "      <th>49</th>\n",
              "      <td>5</td>\n",
              "      <td>10</td>\n",
              "      <td>98.0</td>\n",
              "    </tr>\n",
              "  </tbody>\n",
              "</table>\n",
              "</div>\n",
              "      <button class=\"colab-df-convert\" onclick=\"convertToInteractive('df-17a95a19-f241-4653-a2e2-4010c84a5db7')\"\n",
              "              title=\"Convert this dataframe to an interactive table.\"\n",
              "              style=\"display:none;\">\n",
              "        \n",
              "  <svg xmlns=\"http://www.w3.org/2000/svg\" height=\"24px\"viewBox=\"0 0 24 24\"\n",
              "       width=\"24px\">\n",
              "    <path d=\"M0 0h24v24H0V0z\" fill=\"none\"/>\n",
              "    <path d=\"M18.56 5.44l.94 2.06.94-2.06 2.06-.94-2.06-.94-.94-2.06-.94 2.06-2.06.94zm-11 1L8.5 8.5l.94-2.06 2.06-.94-2.06-.94L8.5 2.5l-.94 2.06-2.06.94zm10 10l.94 2.06.94-2.06 2.06-.94-2.06-.94-.94-2.06-.94 2.06-2.06.94z\"/><path d=\"M17.41 7.96l-1.37-1.37c-.4-.4-.92-.59-1.43-.59-.52 0-1.04.2-1.43.59L10.3 9.45l-7.72 7.72c-.78.78-.78 2.05 0 2.83L4 21.41c.39.39.9.59 1.41.59.51 0 1.02-.2 1.41-.59l7.78-7.78 2.81-2.81c.8-.78.8-2.07 0-2.86zM5.41 20L4 18.59l7.72-7.72 1.47 1.35L5.41 20z\"/>\n",
              "  </svg>\n",
              "      </button>\n",
              "      \n",
              "  <style>\n",
              "    .colab-df-container {\n",
              "      display:flex;\n",
              "      flex-wrap:wrap;\n",
              "      gap: 12px;\n",
              "    }\n",
              "\n",
              "    .colab-df-convert {\n",
              "      background-color: #E8F0FE;\n",
              "      border: none;\n",
              "      border-radius: 50%;\n",
              "      cursor: pointer;\n",
              "      display: none;\n",
              "      fill: #1967D2;\n",
              "      height: 32px;\n",
              "      padding: 0 0 0 0;\n",
              "      width: 32px;\n",
              "    }\n",
              "\n",
              "    .colab-df-convert:hover {\n",
              "      background-color: #E2EBFA;\n",
              "      box-shadow: 0px 1px 2px rgba(60, 64, 67, 0.3), 0px 1px 3px 1px rgba(60, 64, 67, 0.15);\n",
              "      fill: #174EA6;\n",
              "    }\n",
              "\n",
              "    [theme=dark] .colab-df-convert {\n",
              "      background-color: #3B4455;\n",
              "      fill: #D2E3FC;\n",
              "    }\n",
              "\n",
              "    [theme=dark] .colab-df-convert:hover {\n",
              "      background-color: #434B5C;\n",
              "      box-shadow: 0px 1px 3px 1px rgba(0, 0, 0, 0.15);\n",
              "      filter: drop-shadow(0px 1px 2px rgba(0, 0, 0, 0.3));\n",
              "      fill: #FFFFFF;\n",
              "    }\n",
              "  </style>\n",
              "\n",
              "      <script>\n",
              "        const buttonEl =\n",
              "          document.querySelector('#df-17a95a19-f241-4653-a2e2-4010c84a5db7 button.colab-df-convert');\n",
              "        buttonEl.style.display =\n",
              "          google.colab.kernel.accessAllowed ? 'block' : 'none';\n",
              "\n",
              "        async function convertToInteractive(key) {\n",
              "          const element = document.querySelector('#df-17a95a19-f241-4653-a2e2-4010c84a5db7');\n",
              "          const dataTable =\n",
              "            await google.colab.kernel.invokeFunction('convertToInteractive',\n",
              "                                                     [key], {});\n",
              "          if (!dataTable) return;\n",
              "\n",
              "          const docLinkHtml = 'Like what you see? Visit the ' +\n",
              "            '<a target=\"_blank\" href=https://colab.research.google.com/notebooks/data_table.ipynb>data table notebook</a>'\n",
              "            + ' to learn more about interactive tables.';\n",
              "          element.innerHTML = '';\n",
              "          dataTable['output_type'] = 'display_data';\n",
              "          await google.colab.output.renderOutput(dataTable, element);\n",
              "          const docLink = document.createElement('div');\n",
              "          docLink.innerHTML = docLinkHtml;\n",
              "          element.appendChild(docLink);\n",
              "        }\n",
              "      </script>\n",
              "    </div>\n",
              "  </div>\n",
              "  "
            ]
          },
          "metadata": {},
          "execution_count": 9
        }
      ]
    },
    {
      "cell_type": "code",
      "source": [
        "#How many exam grades are passing\n",
        "df.loc[df['grade'] >= 70].count()"
      ],
      "metadata": {
        "colab": {
          "base_uri": "https://localhost:8080/"
        },
        "id": "oWmXlIfdKN-f",
        "outputId": "88b733d7-c5a0-4e36-d062-163d49f0c3de"
      },
      "execution_count": null,
      "outputs": [
        {
          "output_type": "execute_result",
          "data": {
            "text/plain": [
              "exam          42\n",
              "student_id    42\n",
              "grade         42\n",
              "dtype: int64"
            ]
          },
          "metadata": {},
          "execution_count": 10
        }
      ]
    },
    {
      "cell_type": "code",
      "source": [
        "#group the data by exam and get the mean grade per exam\n",
        "df.groupby('exam')['grade'].mean()"
      ],
      "metadata": {
        "colab": {
          "base_uri": "https://localhost:8080/"
        },
        "id": "9vc_4CYCKcTJ",
        "outputId": "41488062-0591-4164-8a3a-8368269a03c5"
      },
      "execution_count": null,
      "outputs": [
        {
          "output_type": "execute_result",
          "data": {
            "text/plain": [
              "exam\n",
              "1    71.0\n",
              "2    73.2\n",
              "3    74.4\n",
              "4    75.6\n",
              "5    84.6\n",
              "Name: grade, dtype: float64"
            ]
          },
          "metadata": {},
          "execution_count": 11
        }
      ]
    },
    {
      "cell_type": "code",
      "source": [
        "#Import the pyplot module in matplotlib’s library and give it the alias of plt\n",
        "import matplotlib.pyplot as plt"
      ],
      "metadata": {
        "id": "EGYXwEpzNijV"
      },
      "execution_count": null,
      "outputs": []
    },
    {
      "cell_type": "code",
      "source": [
        "#To visualize the distribution of the exam grades, create a histogram\n",
        "plt.title('Distribution of the exam grades')\n",
        "plt.xlabel('Grade')\n",
        "plt.hist(df['grade']);"
      ],
      "metadata": {
        "colab": {
          "base_uri": "https://localhost:8080/",
          "height": 295
        },
        "id": "z3eptByoNkS6",
        "outputId": "95c6adc8-fc38-4697-9619-2d0243a9960b"
      },
      "execution_count": null,
      "outputs": [
        {
          "output_type": "display_data",
          "data": {
            "text/plain": [
              "<Figure size 432x288 with 1 Axes>"
            ],
            "image/png": "[encoded data removed]"
          },
          "metadata": {
            "needs_background": "light"
          }
        }
      ]
    }
  ]
}